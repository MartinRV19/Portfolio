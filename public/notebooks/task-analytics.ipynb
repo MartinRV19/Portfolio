{
  "cells": [
    {
      "cell_type": "markdown",
      "metadata": {},
      "source": [
        "# Task Management Analytics\n",
        "\n",
        "This notebook analyzes user engagement data from our task management application."
      ]
    },
    {
      "cell_type": "code",
      "execution_count": 1,
      "metadata": {},
      "outputs": [],
      "source": [
        "import pandas as pd\n",
        "import numpy as np\n",
        "import matplotlib.pyplot as plt\n",
        "import seaborn as sns\n",
        "\n",
        "# Set the style for our plots\n",
        "sns.set(style=\"whitegrid\")"
      ]
    },
    {
      "cell_type": "markdown",
      "metadata": {},
      "source": [
        "## Loading the Dataset\n",
        "\n",
        "First, we'll load our user engagement data."
      ]
    },
    {
      "cell_type": "code",
      "execution_count": 2,
      "metadata": {},
      "outputs": [
        {
          "data": {
            "text/html": [
              "<div>\n",
              "<style scoped>\n",
              "    .dataframe tbody tr th:only-of-type {\n",
              "        vertical-align: middle;\n",
              "    }\n",
              "\n",
              "    .dataframe tbody tr th {\n",
              "        vertical-align: top;\n",
              "    }\n",
              "\n",
              "    .dataframe thead th {\n",
              "        text-align: right;\n",
              "    }\n",
              "</style>\n",
              "<table border=\"1\" class=\"dataframe\">\n",
              "  <thead>\n",
              "    <tr style=\"text-align: right;\">\n",
              "      <th></th>\n",
              "      <th>Date</th>\n",
              "      <th>User ID</th>\n",
              "      <th>Tasks Created</th>\n",
              "      <th>Tasks Completed</th>\n",
              "      <th>Active Minutes</th>\n",
              "    </tr>\n",
              "  </thead>\n",
              "  <tbody>\n",
              "    <tr>\n",
              "      <th>0</th>\n",
              "      <td>2023-01-01</td>\n",
              "      <td>1001</td>\n",
              "      <td>5</td>\n",
              "      <td>3</td>\n",
              "      <td>45</td>\n",
              "    </tr>\n",
              "    <tr>\n",
              "      <th>1</th>\n",
              "      <td>2023-01-02</td>\n",
              "      <td>1002</td>\n",
              "      <td>8</td>\n",
              "      <td>6</td>\n",
              "      <td>60</td>\n",
              "    </tr>\n",
              "    <tr>\n",
              "      <th>2</th>\n",
              "      <td>2023-01-03</td>\n",
              "      <td>1003</td>\n",
              "      <td>3</td>\n",
              "      <td>2</td>\n",
              "      <td>30</td>\n",
              "    </tr>\n",
              "  </tbody>\n",
              "</table>\n",
              "</div>"
            ],
            "text/plain": [
              "         Date  User ID  Tasks Created  Tasks Completed  Active Minutes\n",
              "0  2023-01-01     1001              5                3              45\n",
              "1  2023-01-02     1002              8                6              60\n",
              "2  2023-01-03     1003              3                2              30"
            ]
          },
          "execution_count": 2,
          "metadata": {},
          "output_type": "execute_result"
        }
      ],
      "source": [
        "# Sample data (in a real notebook, we would load from a file)\n",
        "data = {\n",
        "    'Date': ['2023-01-01', '2023-01-02', '2023-01-03'],\n",
        "    'User ID': [1001, 1002, 1003],\n",
        "    'Tasks Created': [5, 8, 3],\n",
        "    'Tasks Completed': [3, 6, 2],\n",
        "    'Active Minutes': [45, 60, 30]\n",
        "}\n",
        "\n",
        "df = pd.DataFrame(data)\n",
        "df"
      ]
    },
    {
      "cell_type": "markdown",
      "metadata": {},
      "source": [
        "## Task Completion Rate Analysis\n",
        "\n",
        "Let's calculate the task completion rate for each user."
      ]
    },
    {
      "cell_type": "code",
      "execution_count": 3,
      "metadata": {},
      "outputs": [
        {
          "data": {
            "text/html": [
              "<div>\n",
              "<style scoped>\n",
              "    .dataframe tbody tr th:only-of-type {\n",
              "        vertical-align: middle;\n",
              "    }\n",
              "\n",
              "    .dataframe tbody tr th {\n",
              "        vertical-align: top;\n",
              "    }\n",
              "\n",
              "    .dataframe thead th {\n",
              "        text-align: right;\n",
              "    }\n",
              "</style>\n",
              "<table border=\"1\" class=\"dataframe\">\n",
              "  <thead>\n",
              "    <tr style=\"text-align: right;\">\n",
              "      <th></th>\n",
              "      <th>Date</th>\n",
              "      <th>User ID</th>\n",
              "      <th>Tasks Created</th>\n",
              "      <th>Tasks Completed</th>\n",
              "      <th>Active Minutes</th>\n",
              "      <th>Completion Rate</th>\n",
              "    </tr>\n",
              "  </thead>\n",
              "  <tbody>\n",
              "    <tr>\n",
              "      <th>0</th>\n",
              "      <td>2023-01-01</td>\n",
              "      <td>1001</td>\n",
              "      <td>5</td>\n",
              "      <td>3</td>\n",
              "      <td>45</td>\n",
              "      <td>0.60</td>\n",
              "    </tr>\n",
              "    <tr>\n",
              "      <th>1</th>\n",
              "      <td>2023-01-02</td>\n",
              "      <td>1002</td>\n",
              "      <td>8</td>\n",
              "      <td>6</td>\n",
              "      <td>60</td>\n",
              "      <td>0.75</td>\n",
              "    </tr>\n",
              "    <tr>\n",
              "      <th>2</th>\n",
              "      <td>2023-01-03</td>\n",
              "      <td>1003</td>\n",
              "      <td>3</td>\n",
              "      <td>2</td>\n",
              "      <td>30</td>\n",
              "      <td>0.67</td>\n",
              "    </tr>\n",
              "  </tbody>\n",
              "</table>\n",
              "</div>"
            ],
            "text/plain": [
              "         Date  User ID  Tasks Created  Tasks Completed  Active Minutes  Completion Rate\n",
              "0  2023-01-01     1001              5                3              45             0.60\n",
              "1  2023-01-02     1002              8                6              60             0.75\n",
              "2  2023-01-03     1003              3                2              30             0.67"
            ]
          },
          "execution_count": 3,
          "metadata": {},
          "output_type": "execute_result"
        }
      ],
      "source": [
        "# Calculate completion rate\n",
        "df['Completion Rate'] = df['Tasks Completed'] / df['Tasks Created']\n",
        "df"
      ]
    },
    {
      "cell_type": "markdown",
      "metadata": {},
      "source": [
        "## Productivity Analysis\n",
        "\n",
        "Let's analyze the relationship between active minutes and tasks completed."
      ]
    },
    {
      "cell_type": "code",
      "execution_count": 4,
      "metadata": {},
      "outputs": [
        {
          "data": {
            "text/html": [
              "<div>\n",
              "<style scoped>\n",
              "    .dataframe tbody tr th:only-of-type {\n",
              "        vertical-align: middle;\n",
              "    }\n",
              "\n",
              "    .dataframe tbody tr th {\n",
              "        vertical-align: top;\n",
              "    }\n",
              "\n",
              "    .dataframe thead th {\n",
              "        text-align: right;\n",
              "    }\n",
              "</style>\n",
              "<table border=\"1\" class=\"dataframe\">\n",
              "  <thead>\n",
              "    <tr style=\"text-align: right;\">\n",
              "      <th></th>\n",
              "      <th>Date</th>\n",
              "      <th>User ID</th>\n",
              "      <th>Tasks Created</th>\n",
              "      <th>Tasks Completed</th>\n",
              "      <th>Active Minutes</th>\n",
              "      <th>Completion Rate</th>\n",
              "      <th>Productivity</th>\n",
              "    </tr>\n",
              "  </thead>\n",
              "  <tbody>\n",
              "    <tr>\n",
              "      <th>0</th>\n",
              "      <td>2023-01-01</td>\n",
              "      <td>1001</td>\n",
              "      <td>5</td>\n",
              "      <td>3</td>\n",
              "      <td>45</td>\n",
              "      <td>0.60</td>\n",
              "      <td>0.067</td>\n",
              "    </tr>\n",
              "    <tr>\n",
              "      <th>1</th>\n",
              "      <td>2023-01-02</td>\n",
              "      <td>1002</td>\n",
              "      <td>8</td>\n",
              "      <td>6</td>\n",
              "      <td>60</td>\n",
              "      <td>0.75</td>\n",
              "      <td>0.100</td>\n",
              "    </tr>\n",
              "    <tr>\n",
              "      <th>2</th>\n",
              "      <td>2023-01-03</td>\n",
              "      <td>1003</td>\n",
              "      <td>3</td>\n",
              "      <td>2</td>\n",
              "      <td>30</td>\n",
              "      <td>0.67</td>\n",
              "      <td>0.067</td>\n",
              "    </tr>\n",
              "  </tbody>\n",
              "</table>\n",
              "</div>"
            ],
            "text/plain": [
              "         Date  User ID  Tasks Created  Tasks Completed  Active Minutes  Completion Rate  Productivity\n",
              "0  2023-01-01     1001              5                3              45             0.60         0.067\n",
              "1  2023-01-02     1002              8                6              60             0.75         0.100\n",
              "2  2023-01-03     1003              3                2              30             0.67         0.067"
            ]
          },
          "execution_count": 4,
          "metadata": {},
          "output_type": "execute_result"
        }
      ],
      "source": [
        "# Calculate productivity (tasks completed per minute)\n",
        "df['Productivity'] = df['Tasks Completed'] / df['Active Minutes']\n",
        "df"
      ]
    },
    {
      "cell_type": "markdown",
      "metadata": {},
      "source": [
        "## Conclusion\n",
        "\n",
        "Based on our analysis, we can see that User 1002 has the highest completion rate (75%) and productivity (0.1 tasks per minute). This suggests that they are the most efficient user in our sample dataset."
      ]
    }
  ],
  "metadata": {
    "kernelspec": {
      "display_name": "Python 3",
      "language": "python",
      "name": "python3"
    },
    "language_info": {
      "codemirror_mode": {
        "name": "ipython",
        "version": 3
      },
      "file_extension": ".py",
      "mimetype": "text/x-python",
      "name": "python",
      "nbconvert_exporter": "python",
      "pygments_lexer": "ipython3",
      "version": "3.8.10"
    }
  },
  "nbformat": 4,
  "nbformat_minor": 4
}
